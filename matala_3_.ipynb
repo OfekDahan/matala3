{
 "cells": [
  {
   "cell_type": "markdown",
   "metadata": {},
   "source": [
    "# **Matala 3** \n",
    "### **ofek dahan**\n",
    "#### 315223826 \n"
   ]
  },
  {
   "cell_type": "code",
   "execution_count": null,
   "metadata": {},
   "outputs": [],
   "source": [
    "import requests\n",
    "import pandas as pd"
   ]
  },
  {
   "cell_type": "code",
   "execution_count": 2,
   "metadata": {},
   "outputs": [],
   "source": [
    "#read the destinations from the file\n",
    "with open('dests.txt', 'r') as f:\n",
    "    destinations = f.read().splitlines()"
   ]
  },
  {
   "cell_type": "code",
   "execution_count": 3,
   "metadata": {},
   "outputs": [],
   "source": [
    "origin = 'Tel Aviv'\n"
   ]
  },
  {
   "cell_type": "code",
   "execution_count": 4,
   "metadata": {},
   "outputs": [],
   "source": [
    "#Create an empty dataframe\n",
    "results = pd.DataFrame(columns=['Target', 'Distance_km', 'Duration', 'Longitude', 'Latitude'])\n"
   ]
  },
  {
   "cell_type": "code",
   "execution_count": 5,
   "metadata": {},
   "outputs": [],
   "source": [
    "for destination in destinations:\n",
    "    try:\n",
    "        # Send a request to the Distance Matrix API to get the distance and duration\n",
    "        url = f'https://maps.googleapis.com/maps/api/distancematrix/json?origins={origin}&destinations={destination}&key=your_key'\n",
    "        response = requests.get(url)\n",
    "        data = response.json()\n",
    "        distance_km = data['rows'][0]['elements'][0]['distance']['value'] / 1000\n",
    "        duration = data['rows'][0]['elements'][0]['duration']['text']\n",
    "        \n",
    "        # Send a request to the Geocoding API to get the longitude and latitude\n",
    "        url = f'https://maps.googleapis.com/maps/api/geocode/json?address={destination}&key=your_key'\n",
    "        response = requests.get(url)\n",
    "        data = response.json()\n",
    "        longitude = data['results'][0]['geometry']['location']['lng']\n",
    "        latitude = data['results'][0]['geometry']['location']['lat']\n",
    "        \n",
    "        # Add the results to the dataframe\n",
    "        results = results.append({'Target': destination, 'Distance_km': distance_km, 'Duration': duration, 'Longitude': longitude, 'Latitude': latitude}, ignore_index=True)\n",
    "    except:\n",
    "        print(f'Error retrieving information for {destination}')"
   ]
  },
  {
   "cell_type": "code",
   "execution_count": 6,
   "metadata": {},
   "outputs": [
    {
     "name": "stdout",
     "output_type": "stream",
     "text": [
      "      Target  Distance_km          Duration  Longitude   Latitude\n",
      "0   Istanbul     1815.227   21 hours 3 mins  28.978359  41.008238\n",
      "1  Amsterdam     4532.541    2 days 0 hours   4.904139  52.367573\n",
      "2   Valletta     3792.883    2 days 3 hours  14.514100  35.899237\n",
      "3      Basel     4092.805    1 day 20 hours   7.588576  47.559599\n",
      "4       Doha     2164.477  22 hours 39 mins  51.531040  25.285447\n"
     ]
    }
   ],
   "source": [
    "# Print the dataframe content\n",
    "print(results)\n"
   ]
  },
  {
   "cell_type": "code",
   "execution_count": 7,
   "metadata": {},
   "outputs": [
    {
     "name": "stdout",
     "output_type": "stream",
     "text": [
      "The 3 cities furthest from Tel Aviv are: Amsterdam, Basel, Valletta\n"
     ]
    }
   ],
   "source": [
    "# the 3 cities furthest from Tel Aviv\n",
    "farthest_cities = results.sort_values('Distance_km', ascending=False).head(3)['Target']\n",
    "print(f'The 3 cities furthest from Tel Aviv are: {\", \".join(farthest_cities)}')"
   ]
  },
  {
   "cell_type": "code",
   "execution_count": null,
   "metadata": {},
   "outputs": [],
   "source": []
  }
 ],
 "metadata": {
  "kernelspec": {
   "display_name": "Python 3",
   "language": "python",
   "name": "python3"
  },
  "language_info": {
   "codemirror_mode": {
    "name": "ipython",
    "version": 3
   },
   "file_extension": ".py",
   "mimetype": "text/x-python",
   "name": "python",
   "nbconvert_exporter": "python",
   "pygments_lexer": "ipython3",
   "version": "3.8.3"
  }
 },
 "nbformat": 4,
 "nbformat_minor": 4
}
